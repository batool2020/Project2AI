{
 "cells": [
  {
   "cell_type": "code",
   "execution_count": 5,
   "id": "500de25d",
   "metadata": {},
   "outputs": [
    {
     "data": {
      "text/plain": [
       "<bound method NDFrame.head of           Id  Hashtags:  terrorism  following  followers  \\\n",
       "0       3697        1.0        0.0     3319.0      611.0   \n",
       "1      10740        0.0        0.0     4840.0     1724.0   \n",
       "2       9572        0.0        0.0     4435.0    16041.0   \n",
       "3      10963        0.0        0.0     9025.0    20165.0   \n",
       "4       5401        2.0        0.0      780.0      897.0   \n",
       "...      ...        ...        ...        ...        ...   \n",
       "11963   2981        NaN        NaN        0.0        0.0   \n",
       "11964  11954        NaN        NaN        0.0        0.0   \n",
       "11965   7866        NaN        NaN        0.0        0.0   \n",
       "11966   7841        NaN        NaN        0.0        0.0   \n",
       "11967   6818        NaN        NaN        0.0        0.0   \n",
       "\n",
       "      Reputation (Followers/ Followers + Following)  actions  is_retweet  \\\n",
       "0                                      0.1554707379    294.0         0.0   \n",
       "1                                      0.2626447288   1522.0         0.0   \n",
       "2                                      0.7834049619  27750.0         0.0   \n",
       "3                                      0.6908187736   6331.0         0.0   \n",
       "4                                      0.5348837209   4792.0         1.0   \n",
       "...                                             ...      ...         ...   \n",
       "11963                                       #DIV/0!      0.0         0.0   \n",
       "11964                                       #DIV/0!      NaN         0.0   \n",
       "11965                                       #DIV/0!      0.0         0.0   \n",
       "11966                                       #DIV/0!      NaN         0.0   \n",
       "11967                                       #DIV/0!      0.0         0.0   \n",
       "\n",
       "          Type  \n",
       "0         Spam  \n",
       "1         Spam  \n",
       "2         Spam  \n",
       "3         Spam  \n",
       "4         Spam  \n",
       "...        ...  \n",
       "11963  Quality  \n",
       "11964  Quality  \n",
       "11965  Quality  \n",
       "11966  Quality  \n",
       "11967  Quality  \n",
       "\n",
       "[11968 rows x 9 columns]>"
      ]
     },
     "execution_count": 5,
     "metadata": {},
     "output_type": "execute_result"
    }
   ],
   "source": [
    "import pandas as pd \n",
    "df = pd.read_csv(\"P2Sample2.csv\")\n",
    "df.head"
   ]
  },
  {
   "cell_type": "code",
   "execution_count": 6,
   "id": "a1ff77d8",
   "metadata": {},
   "outputs": [],
   "source": [
    "df.fillna(0)\n",
    "df['Type'] = df['Type'].str.replace('Spam','1')\n",
    "df['Type'] = df['Type'].str.replace('Quality','0')\n",
    "df.drop(df.index[df['following'] == 'How to use it'], inplace=True)\n",
    "df['Type'] = df['Type'].fillna(0)\n",
    "df['Hashtags:'] = df['Hashtags:'].fillna(0)\n",
    "df['terrorism'] = df['terrorism'].fillna(0)\n",
    "df['following'] = df['following'].fillna(0)\n",
    "df['actions'] = df['actions'].fillna(0)\n",
    "df['is_retweet'] = df['is_retweet'].fillna(0)\n",
    "df['followers'] = df['followers'].fillna(0)\n",
    "df['Reputation (Followers/ Followers + Following)'] = df['Reputation (Followers/ Followers + Following)'].str.replace('#DIV/0!','0')\n"
   ]
  },
  {
   "cell_type": "code",
   "execution_count": 7,
   "id": "e1ce520b",
   "metadata": {},
   "outputs": [],
   "source": [
    "target = df.Type\n",
    "inputs = df.drop('Type',axis='columns')"
   ]
  },
  {
   "cell_type": "code",
   "execution_count": 8,
   "id": "0cd88182",
   "metadata": {},
   "outputs": [
    {
     "data": {
      "text/plain": [
       "Index([], dtype='object')"
      ]
     },
     "execution_count": 8,
     "metadata": {},
     "output_type": "execute_result"
    }
   ],
   "source": [
    "inputs.columns[inputs.isna().any()]"
   ]
  },
  {
   "cell_type": "code",
   "execution_count": 9,
   "id": "b1a14d78",
   "metadata": {},
   "outputs": [],
   "source": [
    "X = inputs\n",
    "y = target"
   ]
  },
  {
   "cell_type": "code",
   "execution_count": 10,
   "id": "769f732e",
   "metadata": {},
   "outputs": [],
   "source": [
    "from sklearn.model_selection import train_test_split\n",
    "X_train, X_test, y_train, y_test = train_test_split(X,y,test_size=0.25)"
   ]
  },
  {
   "cell_type": "code",
   "execution_count": 11,
   "id": "b19b9b8b",
   "metadata": {},
   "outputs": [],
   "source": [
    "from sklearn.ensemble import RandomForestClassifier\n",
    "model = RandomForestClassifier()"
   ]
  },
  {
   "cell_type": "code",
   "execution_count": 23,
   "id": "e978eb43",
   "metadata": {},
   "outputs": [
    {
     "data": {
      "text/plain": [
       "RandomForestClassifier(n_estimators=3)"
      ]
     },
     "execution_count": 23,
     "metadata": {},
     "output_type": "execute_result"
    }
   ],
   "source": [
    "model.fit(X_train, y_train)"
   ]
  },
  {
   "cell_type": "code",
   "execution_count": 24,
   "id": "cb3fd54e",
   "metadata": {},
   "outputs": [
    {
     "data": {
      "text/plain": [
       "0.9953208556149733"
      ]
     },
     "execution_count": 24,
     "metadata": {},
     "output_type": "execute_result"
    }
   ],
   "source": [
    "model.score(X_test, y_test)"
   ]
  },
  {
   "cell_type": "code",
   "execution_count": 22,
   "id": "d530760a",
   "metadata": {},
   "outputs": [],
   "source": [
    "model = RandomForestClassifier(n_estimators=3)"
   ]
  },
  {
   "cell_type": "code",
   "execution_count": 16,
   "id": "920d4dee",
   "metadata": {},
   "outputs": [],
   "source": [
    "y_predicted = model.predict(X_test)"
   ]
  },
  {
   "cell_type": "code",
   "execution_count": 25,
   "id": "fa62de4b",
   "metadata": {},
   "outputs": [
    {
     "data": {
      "text/plain": [
       "array([[1571,    1],\n",
       "       [   6, 1414]], dtype=int64)"
      ]
     },
     "execution_count": 25,
     "metadata": {},
     "output_type": "execute_result"
    }
   ],
   "source": [
    "from sklearn.metrics import confusion_matrix\n",
    "matrix = confusion_matrix(y_test, y_predicted)\n",
    "matrix"
   ]
  },
  {
   "cell_type": "code",
   "execution_count": 26,
   "id": "063d45eb",
   "metadata": {},
   "outputs": [
    {
     "data": {
      "text/plain": [
       "2992"
      ]
     },
     "execution_count": 26,
     "metadata": {},
     "output_type": "execute_result"
    }
   ],
   "source": [
    "len(y_test)"
   ]
  },
  {
   "cell_type": "code",
   "execution_count": 27,
   "id": "cd3f6c42",
   "metadata": {},
   "outputs": [
    {
     "data": {
      "text/plain": [
       "Text(69.0, 0.5, 'Truth')"
      ]
     },
     "execution_count": 27,
     "metadata": {},
     "output_type": "execute_result"
    },
    {
     "data": {
      "image/png": "[encoded data removed]",
      "text/plain": [
       "<Figure size 720x504 with 2 Axes>"
      ]
     },
     "metadata": {
      "needs_background": "light"
     },
     "output_type": "display_data"
    }
   ],
   "source": [
    "%matplotlib inline\n",
    "import matplotlib.pyplot as plt\n",
    "%matplotlib inline\n",
    "import seaborn as sn\n",
    "plt.figure(figsize=(10,7))\n",
    "sn.heatmap(matrix, annot=True)\n",
    "plt.xlabel('Predicted')\n",
    "plt.ylabel('Truth')"
   ]
  },
  {
   "cell_type": "code",
   "execution_count": 20,
   "id": "e8a3e54c",
   "metadata": {},
   "outputs": [
    {
     "data": {
      "text/plain": [
       "4631     1\n",
       "8164     0\n",
       "5111     1\n",
       "8389     0\n",
       "6522     0\n",
       "3522     1\n",
       "4160     1\n",
       "9989     0\n",
       "1674     1\n",
       "6855     0\n",
       "6947     0\n",
       "4288     1\n",
       "11309    0\n",
       "5645     1\n",
       "2220     1\n",
       "Name: Type, dtype: object"
      ]
     },
     "execution_count": 20,
     "metadata": {},
     "output_type": "execute_result"
    }
   ],
   "source": [
    "y_test[:15]"
   ]
  },
  {
   "cell_type": "code",
   "execution_count": 21,
   "id": "991fea96",
   "metadata": {},
   "outputs": [
    {
     "data": {
      "text/plain": [
       "array(['1', '0', '1', '0', '0', '1', '1', '0', '1', '0', '0', '1', '0',\n",
       "       '1', '1'], dtype=object)"
      ]
     },
     "execution_count": 21,
     "metadata": {},
     "output_type": "execute_result"
    }
   ],
   "source": [
    "y_predicted[:15]"
   ]
  },
  {
   "cell_type": "code",
   "execution_count": null,
   "id": "b667ce39",
   "metadata": {},
   "outputs": [],
   "source": []
  }
 ],
 "metadata": {
  "kernelspec": {
   "display_name": "Python 3 (ipykernel)",
   "language": "python",
   "name": "python3"
  },
  "language_info": {
   "codemirror_mode": {
    "name": "ipython",
    "version": 3
   },
   "file_extension": ".py",
   "mimetype": "text/x-python",
   "name": "python",
   "nbconvert_exporter": "python",
   "pygments_lexer": "ipython3",
   "version": "3.9.9"
  }
 },
 "nbformat": 4,
 "nbformat_minor": 5
}
