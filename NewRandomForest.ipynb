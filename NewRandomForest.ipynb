{
 "cells": [
  {
   "cell_type": "code",
   "execution_count": 87,
   "id": "500de25d",
   "metadata": {},
   "outputs": [],
   "source": [
    "from pandas import DataFrame\n",
    "from IPython.display import HTML\n",
    "from nltk.tokenize import word_tokenize\n",
    "from nltk.stem import PorterStemmer\n",
    "import pandas as pd \n",
    "from collections import Counter\n",
    "\n",
    "\n",
    "\n",
    "ps = PorterStemmer()\n",
    "\n",
    "import pandas as pd \n",
    "df = pd.read_csv(\"P2Sample2.csv\", encoding= 'unicode_escape')\n",
    "df.fillna(0)\n",
    "pd.options.display.max_rows = 4000\n",
    "df['Type'] = df['Type'].str.replace('Spam','1')\n",
    "df['Type'] = df['Type'].str.replace('Quality','0')\n",
    "\n",
    "# spam = df.loc[df[\"Type\"]=='1']\n",
    "# quality = df.loc[df[\"Type\"]=='0']\n",
    "\n",
    "\n",
    "# ht = HTML(df.to_html())\n",
    "# display(ht)\n",
    "#print(df[\"Type\"].value_counts())\n",
    "\n",
    "\n",
    "\n",
    "    \n"
   ]
  },
  {
   "cell_type": "code",
   "execution_count": 88,
   "id": "c2304a03",
   "metadata": {},
   "outputs": [],
   "source": [
    "\n",
    "# spam = df.loc[df[\"Type\"]=='1']\n",
    "# quality = df.loc[df[\"Type\"]=='0']\n",
    "\n",
    "# spamTweets = spam[\"Tweet\"]\n",
    "# spamwords = []\n",
    "# for sentence in spamTweets:\n",
    "#     for word in word_tokenize(sentence):\n",
    "#         stemmed_word = ps.stem(word)\n",
    "#         spamwords.append(stemmed_word)\n",
    "# spamwords\n",
    "\n",
    "frequent_spamwords = ['trump', 'news', 'polic', 'break', 'man', 'obama', 'polit', 'world', 'kill',\n",
    "'sport','sport','state', 'amp', 'hillari','fire', 'local','against',\n",
    "'white', 'support', 'report', 'u.s.','shoot','attack','hous','american',\n",
    "'woman','offic','america','media','arrest','cop','liber','home','democrat',\n",
    "'down','crash','elect','shot','gop','dead','court','suspect','investig',\n",
    "'crime','busi','death','maga','fight','gun','north','south','million',\n",
    "'tcot','women','realdonaldtrump','nation','doe','bill','counti'] \n",
    "\n",
    "# qualityTweets = quality[\"Tweet\"]\n",
    "# qualitywords = []\n",
    "# for sentence in qualityTweets:\n",
    "#     for word in word_tokenize(sentence):\n",
    "#         stemmed_word = ps.stem(word)\n",
    "#         qualitywords.append(stemmed_word)\n",
    "# qualitywords\n",
    "\n",
    "frequent_qualitywords = ['love', 'thank','happi', 'good','got','some','think','feel','come',\n",
    "'pleas','pleas','u','birthday','na','realli','life','been', 'even','ca',\n",
    "'girl','great','last','much',\"'ll\",\"'ve\",'never','best','lol','still',\n",
    "'alway','way','give','post','too','check','start','am','someon','im',\n",
    "'2016','where','job','off','week','miss','shit','lot','talk','follow',\n",
    "'free','guy','ani','>','music','stop','fuck','becaus','leav','person',\n",
    "'photo']\n",
    "\n",
    "# cq = Counter(qualitywords)\n",
    "# print(cq.most_common(200))\n",
    "# print(\"__________________________________________________-\")\n",
    "# c = Counter(spamwords)\n",
    "# print(c.most_common(200))\n"
   ]
  },
  {
   "cell_type": "code",
   "execution_count": 89,
   "id": "a1ff77d8",
   "metadata": {
    "scrolled": true
   },
   "outputs": [
    {
     "name": "stdout",
     "output_type": "stream",
     "text": [
      "<class 'int'>\n"
     ]
    }
   ],
   "source": [
    "Tweets = df[\"Tweet\"]\n",
    "words = []\n",
    "wordrateCol = []\n",
    "hashtagsCol = []\n",
    "linksCol = []\n",
    "i = 0\n",
    "for tweet in Tweets:\n",
    "    wordrate = 0\n",
    "    hashtags = 0\n",
    "    links = 0\n",
    "    for word in word_tokenize(tweet):\n",
    "        stemmed_word = ps.stem(word)\n",
    "        if stemmed_word in frequent_spamwords:\n",
    "            wordrate = wordrate + 1\n",
    "        elif stemmed_word in frequent_qualitywords:\n",
    "            wordrate = wordrate - 1\n",
    "        if stemmed_word == '#':\n",
    "            hashtags = hashtags + 1\n",
    "        if stemmed_word == 'http':\n",
    "            links = links + 1\n",
    "    \n",
    "    wordrateCol.append(wordrate)\n",
    "    hashtagsCol.append(hashtags)\n",
    "    linksCol.append(links)\n",
    "    i = i + 1\n",
    "    \n",
    "print(type(wordrateCol[9]))\n",
    "df['wordrate'] = wordrateCol\n",
    "df['hashtags'] = hashtagsCol\n",
    "df['links'] = linksCol\n",
    "\n",
    "dfnew = df.drop('Type',axis='columns')\n",
    "dfnew = df.drop('Tweet',axis='columns')\n",
    "dfnew['Type'] = df[\"Type\"]\n",
    "df = dfnew\n",
    "\n",
    "# ht = HTML(df.to_html())\n",
    "# display(ht)\n"
   ]
  },
  {
   "cell_type": "code",
   "execution_count": 90,
   "id": "397481c0",
   "metadata": {},
   "outputs": [
    {
     "data": {
      "text/html": [
       "<div>\n",
       "<style scoped>\n",
       "    .dataframe tbody tr th:only-of-type {\n",
       "        vertical-align: middle;\n",
       "    }\n",
       "\n",
       "    .dataframe tbody tr th {\n",
       "        vertical-align: top;\n",
       "    }\n",
       "\n",
       "    .dataframe thead th {\n",
       "        text-align: right;\n",
       "    }\n",
       "</style>\n",
       "<table border=\"1\" class=\"dataframe\">\n",
       "  <thead>\n",
       "    <tr style=\"text-align: right;\">\n",
       "      <th></th>\n",
       "      <th>Id</th>\n",
       "      <th>following</th>\n",
       "      <th>followers</th>\n",
       "      <th>Reputation</th>\n",
       "      <th>actions</th>\n",
       "      <th>is_retweet</th>\n",
       "      <th>Type</th>\n",
       "      <th>wordrate</th>\n",
       "      <th>hashtags</th>\n",
       "      <th>links</th>\n",
       "    </tr>\n",
       "  </thead>\n",
       "  <tbody>\n",
       "    <tr>\n",
       "      <th>0</th>\n",
       "      <td>3697</td>\n",
       "      <td>3319.0</td>\n",
       "      <td>611.0</td>\n",
       "      <td>0.155470738</td>\n",
       "      <td>294.0</td>\n",
       "      <td>0.0</td>\n",
       "      <td>1</td>\n",
       "      <td>1</td>\n",
       "      <td>1</td>\n",
       "      <td>2</td>\n",
       "    </tr>\n",
       "    <tr>\n",
       "      <th>1</th>\n",
       "      <td>10740</td>\n",
       "      <td>4840.0</td>\n",
       "      <td>1724.0</td>\n",
       "      <td>0.262644729</td>\n",
       "      <td>1522.0</td>\n",
       "      <td>0.0</td>\n",
       "      <td>1</td>\n",
       "      <td>0</td>\n",
       "      <td>0</td>\n",
       "      <td>1</td>\n",
       "    </tr>\n",
       "    <tr>\n",
       "      <th>2</th>\n",
       "      <td>9572</td>\n",
       "      <td>4435.0</td>\n",
       "      <td>16041.0</td>\n",
       "      <td>0.783404962</td>\n",
       "      <td>27750.0</td>\n",
       "      <td>0.0</td>\n",
       "      <td>1</td>\n",
       "      <td>0</td>\n",
       "      <td>0</td>\n",
       "      <td>1</td>\n",
       "    </tr>\n",
       "    <tr>\n",
       "      <th>3</th>\n",
       "      <td>10963</td>\n",
       "      <td>9025.0</td>\n",
       "      <td>20165.0</td>\n",
       "      <td>0.690818774</td>\n",
       "      <td>6331.0</td>\n",
       "      <td>0.0</td>\n",
       "      <td>1</td>\n",
       "      <td>1</td>\n",
       "      <td>0</td>\n",
       "      <td>2</td>\n",
       "    </tr>\n",
       "    <tr>\n",
       "      <th>4</th>\n",
       "      <td>5401</td>\n",
       "      <td>780.0</td>\n",
       "      <td>897.0</td>\n",
       "      <td>0.534883721</td>\n",
       "      <td>4792.0</td>\n",
       "      <td>1.0</td>\n",
       "      <td>1</td>\n",
       "      <td>-1</td>\n",
       "      <td>2</td>\n",
       "      <td>2</td>\n",
       "    </tr>\n",
       "    <tr>\n",
       "      <th>5</th>\n",
       "      <td>7636</td>\n",
       "      <td>1893.0</td>\n",
       "      <td>1651.0</td>\n",
       "      <td>0.465857788</td>\n",
       "      <td>3564.0</td>\n",
       "      <td>1.0</td>\n",
       "      <td>1</td>\n",
       "      <td>3</td>\n",
       "      <td>3</td>\n",
       "      <td>2</td>\n",
       "    </tr>\n",
       "    <tr>\n",
       "      <th>6</th>\n",
       "      <td>6908</td>\n",
       "      <td>7981.0</td>\n",
       "      <td>12815.0</td>\n",
       "      <td>0.616224274</td>\n",
       "      <td>13601.0</td>\n",
       "      <td>1.0</td>\n",
       "      <td>1</td>\n",
       "      <td>0</td>\n",
       "      <td>0</td>\n",
       "      <td>1</td>\n",
       "    </tr>\n",
       "    <tr>\n",
       "      <th>7</th>\n",
       "      <td>10433</td>\n",
       "      <td>85.0</td>\n",
       "      <td>73.0</td>\n",
       "      <td>0.462025317</td>\n",
       "      <td>434.0</td>\n",
       "      <td>0.0</td>\n",
       "      <td>1</td>\n",
       "      <td>0</td>\n",
       "      <td>3</td>\n",
       "      <td>0</td>\n",
       "    </tr>\n",
       "    <tr>\n",
       "      <th>8</th>\n",
       "      <td>4941</td>\n",
       "      <td>856.0</td>\n",
       "      <td>1093.0</td>\n",
       "      <td>0.560800411</td>\n",
       "      <td>6219.0</td>\n",
       "      <td>1.0</td>\n",
       "      <td>1</td>\n",
       "      <td>0</td>\n",
       "      <td>0</td>\n",
       "      <td>2</td>\n",
       "    </tr>\n",
       "    <tr>\n",
       "      <th>9</th>\n",
       "      <td>7237</td>\n",
       "      <td>456.0</td>\n",
       "      <td>821.0</td>\n",
       "      <td>0.642913078</td>\n",
       "      <td>5797.0</td>\n",
       "      <td>1.0</td>\n",
       "      <td>1</td>\n",
       "      <td>0</td>\n",
       "      <td>1</td>\n",
       "      <td>0</td>\n",
       "    </tr>\n",
       "    <tr>\n",
       "      <th>10</th>\n",
       "      <td>8219</td>\n",
       "      <td>14242.0</td>\n",
       "      <td>13235.0</td>\n",
       "      <td>0.481675583</td>\n",
       "      <td>28238.0</td>\n",
       "      <td>0.0</td>\n",
       "      <td>1</td>\n",
       "      <td>3</td>\n",
       "      <td>2</td>\n",
       "      <td>0</td>\n",
       "    </tr>\n",
       "    <tr>\n",
       "      <th>11</th>\n",
       "      <td>9597</td>\n",
       "      <td>7155.0</td>\n",
       "      <td>16929.0</td>\n",
       "      <td>0.702914798</td>\n",
       "      <td>33170.0</td>\n",
       "      <td>0.0</td>\n",
       "      <td>1</td>\n",
       "      <td>1</td>\n",
       "      <td>0</td>\n",
       "      <td>1</td>\n",
       "    </tr>\n",
       "    <tr>\n",
       "      <th>12</th>\n",
       "      <td>2348</td>\n",
       "      <td>2651.0</td>\n",
       "      <td>2703.0</td>\n",
       "      <td>0.504856182</td>\n",
       "      <td>3775.0</td>\n",
       "      <td>1.0</td>\n",
       "      <td>1</td>\n",
       "      <td>2</td>\n",
       "      <td>0</td>\n",
       "      <td>1</td>\n",
       "    </tr>\n",
       "    <tr>\n",
       "      <th>13</th>\n",
       "      <td>2198</td>\n",
       "      <td>4779.0</td>\n",
       "      <td>1565.0</td>\n",
       "      <td>0.246689786</td>\n",
       "      <td>1173.0</td>\n",
       "      <td>0.0</td>\n",
       "      <td>1</td>\n",
       "      <td>3</td>\n",
       "      <td>0</td>\n",
       "      <td>1</td>\n",
       "    </tr>\n",
       "    <tr>\n",
       "      <th>14</th>\n",
       "      <td>5403</td>\n",
       "      <td>0.0</td>\n",
       "      <td>100.0</td>\n",
       "      <td>1</td>\n",
       "      <td>2028.0</td>\n",
       "      <td>1.0</td>\n",
       "      <td>1</td>\n",
       "      <td>0</td>\n",
       "      <td>0</td>\n",
       "      <td>0</td>\n",
       "    </tr>\n",
       "    <tr>\n",
       "      <th>15</th>\n",
       "      <td>11659</td>\n",
       "      <td>8606.0</td>\n",
       "      <td>12299.0</td>\n",
       "      <td>0.588328151</td>\n",
       "      <td>22201.0</td>\n",
       "      <td>0.0</td>\n",
       "      <td>1</td>\n",
       "      <td>1</td>\n",
       "      <td>1</td>\n",
       "      <td>0</td>\n",
       "    </tr>\n",
       "    <tr>\n",
       "      <th>16</th>\n",
       "      <td>8426</td>\n",
       "      <td>547.0</td>\n",
       "      <td>471.0</td>\n",
       "      <td>0.462671906</td>\n",
       "      <td>4840.0</td>\n",
       "      <td>1.0</td>\n",
       "      <td>1</td>\n",
       "      <td>0</td>\n",
       "      <td>0</td>\n",
       "      <td>0</td>\n",
       "    </tr>\n",
       "    <tr>\n",
       "      <th>17</th>\n",
       "      <td>11586</td>\n",
       "      <td>10.0</td>\n",
       "      <td>4.0</td>\n",
       "      <td>0.285714286</td>\n",
       "      <td>1266.0</td>\n",
       "      <td>0.0</td>\n",
       "      <td>1</td>\n",
       "      <td>1</td>\n",
       "      <td>3</td>\n",
       "      <td>2</td>\n",
       "    </tr>\n",
       "    <tr>\n",
       "      <th>18</th>\n",
       "      <td>9788</td>\n",
       "      <td>0.0</td>\n",
       "      <td>1.0</td>\n",
       "      <td>1</td>\n",
       "      <td>4.0</td>\n",
       "      <td>0.0</td>\n",
       "      <td>1</td>\n",
       "      <td>3</td>\n",
       "      <td>1</td>\n",
       "      <td>0</td>\n",
       "    </tr>\n",
       "    <tr>\n",
       "      <th>19</th>\n",
       "      <td>264</td>\n",
       "      <td>739.0</td>\n",
       "      <td>801.0</td>\n",
       "      <td>0.52012987</td>\n",
       "      <td>5451.0</td>\n",
       "      <td>0.0</td>\n",
       "      <td>1</td>\n",
       "      <td>0</td>\n",
       "      <td>0</td>\n",
       "      <td>1</td>\n",
       "    </tr>\n",
       "  </tbody>\n",
       "</table>\n",
       "</div>"
      ],
      "text/plain": [
       "       Id  following  followers   Reputation  actions  is_retweet Type  \\\n",
       "0    3697     3319.0      611.0  0.155470738    294.0         0.0    1   \n",
       "1   10740     4840.0     1724.0  0.262644729   1522.0         0.0    1   \n",
       "2    9572     4435.0    16041.0  0.783404962  27750.0         0.0    1   \n",
       "3   10963     9025.0    20165.0  0.690818774   6331.0         0.0    1   \n",
       "4    5401      780.0      897.0  0.534883721   4792.0         1.0    1   \n",
       "5    7636     1893.0     1651.0  0.465857788   3564.0         1.0    1   \n",
       "6    6908     7981.0    12815.0  0.616224274  13601.0         1.0    1   \n",
       "7   10433       85.0       73.0  0.462025317    434.0         0.0    1   \n",
       "8    4941      856.0     1093.0  0.560800411   6219.0         1.0    1   \n",
       "9    7237      456.0      821.0  0.642913078   5797.0         1.0    1   \n",
       "10   8219    14242.0    13235.0  0.481675583  28238.0         0.0    1   \n",
       "11   9597     7155.0    16929.0  0.702914798  33170.0         0.0    1   \n",
       "12   2348     2651.0     2703.0  0.504856182   3775.0         1.0    1   \n",
       "13   2198     4779.0     1565.0  0.246689786   1173.0         0.0    1   \n",
       "14   5403        0.0      100.0            1   2028.0         1.0    1   \n",
       "15  11659     8606.0    12299.0  0.588328151  22201.0         0.0    1   \n",
       "16   8426      547.0      471.0  0.462671906   4840.0         1.0    1   \n",
       "17  11586       10.0        4.0  0.285714286   1266.0         0.0    1   \n",
       "18   9788        0.0        1.0            1      4.0         0.0    1   \n",
       "19    264      739.0      801.0   0.52012987   5451.0         0.0    1   \n",
       "\n",
       "    wordrate  hashtags  links  \n",
       "0          1         1      2  \n",
       "1          0         0      1  \n",
       "2          0         0      1  \n",
       "3          1         0      2  \n",
       "4         -1         2      2  \n",
       "5          3         3      2  \n",
       "6          0         0      1  \n",
       "7          0         3      0  \n",
       "8          0         0      2  \n",
       "9          0         1      0  \n",
       "10         3         2      0  \n",
       "11         1         0      1  \n",
       "12         2         0      1  \n",
       "13         3         0      1  \n",
       "14         0         0      0  \n",
       "15         1         1      0  \n",
       "16         0         0      0  \n",
       "17         1         3      2  \n",
       "18         3         1      0  \n",
       "19         0         0      1  "
      ]
     },
     "execution_count": 90,
     "metadata": {},
     "output_type": "execute_result"
    }
   ],
   "source": [
    "#df.drop(df.index[df['following'] == 'How to use it'], inplace=True)\n",
    "df['Type'] = df['Type'].fillna(0)\n",
    "df['following'] = df['following'].fillna(0)\n",
    "df['actions'] = df['actions'].fillna(0)\n",
    "df['is_retweet'] = df['is_retweet'].fillna(0)\n",
    "df['followers'] = df['followers'].fillna(0)\n",
    "df['Reputation'] = df['Reputation'].str.replace('#DIV/0!','0')\n",
    "df[:20]"
   ]
  },
  {
   "cell_type": "code",
   "execution_count": null,
   "id": "285a94f0",
   "metadata": {},
   "outputs": [],
   "source": []
  },
  {
   "cell_type": "code",
   "execution_count": 91,
   "id": "e1ce520b",
   "metadata": {},
   "outputs": [
    {
     "data": {
      "text/plain": [
       "0        1\n",
       "1        1\n",
       "2        1\n",
       "3        1\n",
       "4        1\n",
       "        ..\n",
       "11963    0\n",
       "11964    0\n",
       "11965    0\n",
       "11966    0\n",
       "11967    0\n",
       "Name: Type, Length: 11968, dtype: object"
      ]
     },
     "execution_count": 91,
     "metadata": {},
     "output_type": "execute_result"
    }
   ],
   "source": [
    "target = df.Type\n",
    "inputs = df.drop('Type',axis='columns')\n",
    "target"
   ]
  },
  {
   "cell_type": "code",
   "execution_count": 92,
   "id": "0cd88182",
   "metadata": {},
   "outputs": [],
   "source": [
    "#inputs.columns[inputs.isna().any()]"
   ]
  },
  {
   "cell_type": "code",
   "execution_count": 93,
   "id": "b1a14d78",
   "metadata": {},
   "outputs": [],
   "source": [
    "X = inputs\n",
    "y = target"
   ]
  },
  {
   "cell_type": "code",
   "execution_count": 102,
   "id": "769f732e",
   "metadata": {},
   "outputs": [],
   "source": [
    "from sklearn.model_selection import train_test_split\n",
    "X_train, X_test, y_train, y_test = train_test_split(X,y, stratify=y,test_size=0.2)"
   ]
  },
  {
   "cell_type": "code",
   "execution_count": 95,
   "id": "e58f9d60",
   "metadata": {},
   "outputs": [
    {
     "name": "stdout",
     "output_type": "stream",
     "text": [
      "(9574, 9)\n",
      "(2394, 9)\n",
      "(9574,)\n",
      "(2394,)\n"
     ]
    }
   ],
   "source": [
    "print(X_train.shape)\n",
    "print(X_test.shape)\n",
    "print(y_train.shape)\n",
    "print(y_test.shape)"
   ]
  },
  {
   "cell_type": "code",
   "execution_count": 103,
   "id": "b19b9b8b",
   "metadata": {},
   "outputs": [
    {
     "data": {
      "text/plain": [
       "1.0"
      ]
     },
     "execution_count": 103,
     "metadata": {},
     "output_type": "execute_result"
    }
   ],
   "source": [
    "from sklearn.ensemble import RandomForestClassifier\n",
    "model = RandomForestClassifier(n_estimators=100)\n",
    "model.fit(X_train, y_train)\n",
    "print(\"Score = \")\n",
    "print(model.score(X_test, y_test))\n"
   ]
  },
  {
   "cell_type": "code",
   "execution_count": 66,
   "id": "920d4dee",
   "metadata": {},
   "outputs": [
    {
     "name": "stdout",
     "output_type": "stream",
     "text": [
      "         Id  Hashtags:  terrorism  following  followers  \\\n",
      "9488   4674        0.0        0.0        0.0        0.0   \n",
      "9489   3959        0.0        0.0        0.0        0.0   \n",
      "800    6241        0.0        0.0     1130.0      649.0   \n",
      "8059   7994        0.0        0.0        0.0        0.0   \n",
      "3557   3749        0.0        0.0     2728.0     2367.0   \n",
      "2574  12463        0.0        0.0    11001.0    35201.0   \n",
      "9834  10814        0.0        0.0        0.0        0.0   \n",
      "5789   8705        0.0        0.0     8636.0    12296.0   \n",
      "6283   9134        0.0        0.0        0.0        0.0   \n",
      "4142   9766        0.0        0.0    10608.0    20531.0   \n",
      "\n",
      "     Reputation (Followers/ Followers + Following)  actions  is_retweet  \n",
      "9488                                             0     14.0         0.0  \n",
      "9489                                             0      0.0         0.0  \n",
      "800                                    0.364811692   1299.0         1.0  \n",
      "8059                                             0      0.0         0.0  \n",
      "3557                                  0.4645731109   3607.0         1.0  \n",
      "2574                                  0.7618934245  10246.0         0.0  \n",
      "9834                                             0      0.0         0.0  \n",
      "5789                                  0.5874259507  18532.0         0.0  \n",
      "6283                                             0      0.0         0.0  \n",
      "4142                                  0.6593339542  16554.0         1.0  \n",
      "['0' '0' '1' '0' '1' '1' '0' '1' '0' '1']\n"
     ]
    }
   ],
   "source": [
    "y_predicted = model.predict(X_test)\n",
    "HTML(X_test.to_html())\n",
    "print(X_test[:10])\n",
    "print(y_predicted[:10])"
   ]
  },
  {
   "cell_type": "code",
   "execution_count": 67,
   "id": "fa62de4b",
   "metadata": {},
   "outputs": [
    {
     "data": {
      "text/plain": [
       "array([[1230,    1],\n",
       "       [   3, 1160]], dtype=int64)"
      ]
     },
     "execution_count": 67,
     "metadata": {},
     "output_type": "execute_result"
    }
   ],
   "source": [
    "from sklearn.metrics import confusion_matrix\n",
    "matrix = confusion_matrix(y_test, y_predicted)\n",
    "matrix"
   ]
  },
  {
   "cell_type": "code",
   "execution_count": 46,
   "id": "063d45eb",
   "metadata": {},
   "outputs": [
    {
     "data": {
      "text/plain": [
       "2394"
      ]
     },
     "execution_count": 46,
     "metadata": {},
     "output_type": "execute_result"
    }
   ],
   "source": [
    "len(y_test)"
   ]
  },
  {
   "cell_type": "code",
   "execution_count": 68,
   "id": "cd3f6c42",
   "metadata": {},
   "outputs": [
    {
     "data": {
      "text/plain": [
       "Text(69.0, 0.5, 'Truth')"
      ]
     },
     "execution_count": 68,
     "metadata": {},
     "output_type": "execute_result"
    },
    {
     "data": {
      "image/png": "[encoded data removed]",
      "text/plain": [
       "<Figure size 720x504 with 2 Axes>"
      ]
     },
     "metadata": {
      "needs_background": "light"
     },
     "output_type": "display_data"
    }
   ],
   "source": [
    "%matplotlib inline\n",
    "import matplotlib.pyplot as plt\n",
    "%matplotlib inline\n",
    "import seaborn as sn\n",
    "plt.figure(figsize=(10,7))\n",
    "sn.heatmap(matrix, annot=True)\n",
    "plt.xlabel('Predicted')\n",
    "plt.ylabel('Truth')"
   ]
  },
  {
   "cell_type": "code",
   "execution_count": 48,
   "id": "e8a3e54c",
   "metadata": {},
   "outputs": [
    {
     "data": {
      "text/plain": [
       "10587    0\n",
       "11175    0\n",
       "8603     0\n",
       "8640     0\n",
       "1        1\n",
       "2461     1\n",
       "8033     0\n",
       "1579     1\n",
       "836      1\n",
       "2491     1\n",
       "346      1\n",
       "1438     1\n",
       "11182    0\n",
       "462      1\n",
       "5705     1\n",
       "Name: Type, dtype: object"
      ]
     },
     "execution_count": 48,
     "metadata": {},
     "output_type": "execute_result"
    }
   ],
   "source": [
    "y_test[:15]"
   ]
  },
  {
   "cell_type": "code",
   "execution_count": 49,
   "id": "991fea96",
   "metadata": {},
   "outputs": [
    {
     "data": {
      "text/plain": [
       "array(['0', '0', '0', '0', '1', '1', '0', '1', '1', '1', '1', '1', '0',\n",
       "       '1', '1'], dtype=object)"
      ]
     },
     "execution_count": 49,
     "metadata": {},
     "output_type": "execute_result"
    }
   ],
   "source": [
    "y_predicted[:15]"
   ]
  },
  {
   "cell_type": "code",
   "execution_count": null,
   "id": "ad6aca7e",
   "metadata": {},
   "outputs": [],
   "source": []
  }
 ],
 "metadata": {
  "kernelspec": {
   "display_name": "Python 3 (ipykernel)",
   "language": "python",
   "name": "python3"
  },
  "language_info": {
   "codemirror_mode": {
    "name": "ipython",
    "version": 3
   },
   "file_extension": ".py",
   "mimetype": "text/x-python",
   "name": "python",
   "nbconvert_exporter": "python",
   "pygments_lexer": "ipython3",
   "version": "3.9.7"
  }
 },
 "nbformat": 4,
 "nbformat_minor": 5
}